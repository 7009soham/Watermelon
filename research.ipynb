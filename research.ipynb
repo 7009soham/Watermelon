{
 "cells": [
  {
   "cell_type": "code",
   "execution_count": 1,
   "id": "54c1b300",
   "metadata": {},
   "outputs": [
    {
     "ename": "ModuleNotFoundError",
     "evalue": "No module named 'numpy'",
     "output_type": "error",
     "traceback": [
      "\u001b[1;31m---------------------------------------------------------------------------\u001b[0m",
      "\u001b[1;31mModuleNotFoundError\u001b[0m                       Traceback (most recent call last)",
      "Cell \u001b[1;32mIn[1], line 1\u001b[0m\n\u001b[1;32m----> 1\u001b[0m \u001b[38;5;28;01mimport\u001b[39;00m\u001b[38;5;250m \u001b[39m\u001b[38;5;21;01mnumpy\u001b[39;00m\u001b[38;5;250m \u001b[39m\u001b[38;5;28;01mas\u001b[39;00m\u001b[38;5;250m \u001b[39m\u001b[38;5;21;01mnp\u001b[39;00m\n\u001b[0;32m      3\u001b[0m \u001b[38;5;28;01mdef\u001b[39;00m\u001b[38;5;250m \u001b[39m\u001b[38;5;21msigmoid\u001b[39m(z):\n\u001b[0;32m      4\u001b[0m \u001b[38;5;250m    \u001b[39m\u001b[38;5;124;03m\"\"\"Sigmoid activation function.\"\"\"\u001b[39;00m\n",
      "\u001b[1;31mModuleNotFoundError\u001b[0m: No module named 'numpy'"
     ]
    }
   ],
   "source": [
    "import numpy as np\n",
    "\n",
    "def sigmoid(z):\n",
    "    \"\"\"Sigmoid activation function.\"\"\"\n",
    "    return 1 / (1 + np.exp(-z))\n",
    "\n",
    "def sigmoid_derivative(z):\n",
    "    \"\"\"Derivative of the sigmoid function.\"\"\"\n",
    "    return z * (1 - z)\n",
    "\n",
    "# --- 1. Load the Prepared Data ---\n",
    "X = np.load('features_X.npy')\n",
    "Y = np.load('labels_Y.npy')\n",
    "\n",
    "# --- 2. Define the Neural Network Architecture ---\n",
    "# The number of features in our input data\n",
    "input_neurons = X.shape[1]\n",
    "# The number of neurons in our single hidden layer (a \"wide\" network)\n",
    "hidden_neurons = 64\n",
    "# A single output neuron for binary classification (0 or 1)\n",
    "output_neurons = 1\n",
    "\n",
    "# --- 3. Initialize Weights and Biases ---\n",
    "# Weights and biases are initialized with small random values\n",
    "wh = np.random.uniform(size=(input_neurons, hidden_neurons))\n",
    "bh = np.random.uniform(size=(1, hidden_neurons))\n",
    "wout = np.random.uniform(size=(hidden_neurons, output_neurons))\n",
    "bout = np.random.uniform(size=(1, output_neurons))\n",
    "\n",
    "# --- 4. Train the Network ---\n",
    "learning_rate = 0.1\n",
    "epochs = 1000 # Number of times to loop through the training data\n",
    "\n",
    "for i in range(epochs):\n",
    "\n",
    "    # --- Forward Propagation ---\n",
    "    # Phase 1: Input to Hidden Layer\n",
    "    hidden_layer_input = np.dot(X, wh) + bh\n",
    "    hidden_layer_activations = sigmoid(hidden_layer_input)\n",
    "\n",
    "    # Phase 2: Hidden Layer to Output\n",
    "    output_layer_input = np.dot(hidden_layer_activations, wout) + bout\n",
    "    predicted_output = sigmoid(output_layer_input)\n",
    "\n",
    "    # --- Backward Propagation ---\n",
    "    # Calculate the error\n",
    "    error = Y - predicted_output\n",
    "\n",
    "    # Calculate gradients\n",
    "    d_predicted_output = error * sigmoid_derivative(predicted_output)\n",
    "    error_hidden_layer = d_predicted_output.dot(wout.T)\n",
    "    d_hidden_layer = error_hidden_layer * sigmoid_derivative(hidden_layer_activations)\n",
    "\n",
    "    # --- Update Weights and Biases ---\n",
    "    wout += hidden_layer_activations.T.dot(d_predicted_output) * learning_rate\n",
    "    bout += np.sum(d_predicted_output, axis=0, keepdims=True) * learning_rate\n",
    "    wh += X.T.dot(d_hidden_layer) * learning_rate\n",
    "    bh += np.sum(d_hidden_layer, axis=0, keepdims=True) * learning_rate\n",
    "\n",
    "    # Print the loss every 100 epochs to see the progress\n",
    "    if i % 100 == 0:\n",
    "        loss = np.mean(np.square(Y - predicted_output))\n",
    "        print(f\"Epoch {i}, Loss: {loss:.4f}\")\n",
    "\n",
    "\n",
    "# --- 5. Display Final Predictions ---\n",
    "print(\"\\n--- Training Complete ---\")\n",
    "print(\"Final Predicted Output:\")\n",
    "print(predicted_output)\n",
    "print(\"\\nActual Labels:\")\n",
    "print(Y)\n",
    "print(\"\\nAs you can see, the predicted values are very close to the actual labels (0 and 1).\")"
   ]
  }
 ],
 "metadata": {
  "kernelspec": {
   "display_name": ".venv (3.10.11)",
   "language": "python",
   "name": "python3"
  },
  "language_info": {
   "codemirror_mode": {
    "name": "ipython",
    "version": 3
   },
   "file_extension": ".py",
   "mimetype": "text/x-python",
   "name": "python",
   "nbconvert_exporter": "python",
   "pygments_lexer": "ipython3",
   "version": "3.10.11"
  }
 },
 "nbformat": 4,
 "nbformat_minor": 5
}
